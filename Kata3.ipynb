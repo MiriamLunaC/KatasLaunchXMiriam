{
 "cells": [
  {
   "cell_type": "markdown",
   "metadata": {},
   "source": [
    "Ejercicio - Escribir declaraciones if, else y elif."
   ]
  },
  {
   "cell_type": "code",
   "execution_count": 2,
   "metadata": {},
   "outputs": [
    {
     "name": "stdout",
     "output_type": "stream",
     "text": [
      "¡Cuidado! un asteroide se acerca ráidamente\n"
     ]
    }
   ],
   "source": [
    "#Ejercicio 1\n",
    "\n",
    "velocidadMinPeligrosa = 25\n",
    "velocidadActual = 49\n",
    "\n",
    "if velocidadActual > velocidadMinPeligrosa :\n",
    "    print(\"¡Cuidado! un asteroide se acerca ráidamente\")\n",
    "else :\n",
    "    print(\"Hay un asteroide cerca, pero no hay nada de que preocuparse\")\n"
   ]
  },
  {
   "cell_type": "code",
   "execution_count": 3,
   "metadata": {},
   "outputs": [
    {
     "name": "stdout",
     "output_type": "stream",
     "text": [
      "Nada de que preocuparse\n"
     ]
    }
   ],
   "source": [
    "#Ejercicio 2\n",
    "velocidadRayo = 20\n",
    "velocidadAsteroide = 19\n",
    "\n",
    "if velocidadAsteroide > velocidadRayo :\n",
    "    print(\"¡Mira el rayo! Hay un asteroide que ya entró a la atmósfera y se dirige a la Tierra demasiado rápido.\")\n",
    "elif velocidadAsteroide == velocidadRayo :\n",
    "    print(\"¡Mira el rayo! Hay un asteroide que ya entró a la atmósfera y se dirige a la Tierra demasiado rápido.\")\n",
    "else :\n",
    "    print(\"Nada de que preocuparse\")"
   ]
  },
  {
   "cell_type": "markdown",
   "metadata": {},
   "source": [
    "Ejercicio - Uso de operadores and y or"
   ]
  },
  {
   "cell_type": "code",
   "execution_count": 12,
   "metadata": {},
   "outputs": [
    {
     "name": "stdout",
     "output_type": "stream",
     "text": [
      "¡Advertencia! El mundo está en peligro\n"
     ]
    }
   ],
   "source": [
    "velocidad = 26\n",
    "size = 4089\n",
    "\n",
    "if size > 25 and size < 1000 or velocidad > 25 :\n",
    "    print(\"¡Advertencia! El mundo está en peligro\")\n",
    "elif velocidad >= 20 :\n",
    "    print(\"¡Mira el rayo! Hay un asteroide que ya entró a la atmósfera y se dirige a la Tierra demasiado rápido.\")\n",
    "else :\n",
    "    print(\"No hay nada que mirar, ¡que tengas bonito día!\")"
   ]
  }
 ],
 "metadata": {
  "interpreter": {
   "hash": "f4fde45515710cbe4f4cf44a8ddef1b298277709bd6c5462499553af68a98f2e"
  },
  "kernelspec": {
   "display_name": "Python 3.10.2 64-bit",
   "language": "python",
   "name": "python3"
  },
  "language_info": {
   "codemirror_mode": {
    "name": "ipython",
    "version": 3
   },
   "file_extension": ".py",
   "mimetype": "text/x-python",
   "name": "python",
   "nbconvert_exporter": "python",
   "pygments_lexer": "ipython3",
   "version": "3.10.2"
  },
  "orig_nbformat": 4
 },
 "nbformat": 4,
 "nbformat_minor": 2
}
