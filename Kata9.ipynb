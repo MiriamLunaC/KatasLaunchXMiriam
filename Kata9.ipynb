{
 "cells": [
  {
   "cell_type": "markdown",
   "metadata": {},
   "source": [
    "Ejericio 1: Trabajar con argumentos en funciones"
   ]
  },
  {
   "cell_type": "code",
   "execution_count": 9,
   "metadata": {},
   "outputs": [],
   "source": [
    "def informes(tanque1, tanque2, tanque3) :\n",
    "    promedio = (tanque1+tanque2+tanque3)/3\n",
    "    text = f\"\"\"\n",
    "    Lectura de combustible.\n",
    "    -----------------------\n",
    "    Tanque 1: {tanque1},\n",
    "    Tanque 2: {tanque2},\n",
    "    Tanque 3: {tanque3}\n",
    "\n",
    "    Promedio.\n",
    "    -----------------------\n",
    "    Promedio: {promedio}\n",
    "    \"\"\"\n",
    "    return text\n"
   ]
  },
  {
   "cell_type": "code",
   "execution_count": 10,
   "metadata": {},
   "outputs": [
    {
     "name": "stdout",
     "output_type": "stream",
     "text": [
      "\n",
      "    Lectura de combustible.\n",
      "    -----------------------\n",
      "    Tanque 1: 1,\n",
      "    Tanque 2: 2,\n",
      "    Tanque 3: 3\n",
      "\n",
      "    Promedio.\n",
      "    -----------------------\n",
      "    Promedio: 2.0\n",
      "    \n"
     ]
    }
   ],
   "source": [
    "print(informes(1,2,3))"
   ]
  },
  {
   "cell_type": "code",
   "execution_count": 30,
   "metadata": {},
   "outputs": [],
   "source": [
    "def promedioFunction(args) :\n",
    "    average = sum(args) / len(args)\n",
    "    return average"
   ]
  },
  {
   "cell_type": "code",
   "execution_count": 36,
   "metadata": {},
   "outputs": [],
   "source": [
    "def informes(tanque1, tanque2, tanque3) :\n",
    "    promedio = promedioFunction([tanque1,tanque2,tanque3])\n",
    "    text = f\"\"\"\n",
    "    Lectura de combustible.\n",
    "    -----------------------\n",
    "    Tanque 1: {tanque1},\n",
    "    Tanque 2: {tanque2},\n",
    "    Tanque 3: {tanque3}\n",
    "    \n",
    "    Promedio: {promedio}\n",
    "    \"\"\"\n",
    "    return text"
   ]
  },
  {
   "cell_type": "code",
   "execution_count": 37,
   "metadata": {},
   "outputs": [
    {
     "name": "stdout",
     "output_type": "stream",
     "text": [
      "\n",
      "    Lectura de combustible.\n",
      "    -----------------------\n",
      "    Tanque 1: 1,\n",
      "    Tanque 2: 2,\n",
      "    Tanque 3: 3\n",
      "    \n",
      "    Promedio: 2.0\n",
      "    \n"
     ]
    }
   ],
   "source": [
    "print(informes(1,2,3))"
   ]
  },
  {
   "cell_type": "markdown",
   "metadata": {},
   "source": [
    "Ejercicio 2: Trabajo con argumentos de palabra clave"
   ]
  },
  {
   "cell_type": "code",
   "execution_count": 60,
   "metadata": {},
   "outputs": [],
   "source": [
    "from datetime import datetime"
   ]
  },
  {
   "cell_type": "code",
   "execution_count": 75,
   "metadata": {},
   "outputs": [],
   "source": [
    "def informe(tiempo, destino, **combustible) :\n",
    "    horaprelanzamiento = datetime.now()\n",
    "    return f\"\"\"\n",
    "    Destino de la misión: {destino},\n",
    "    Hora de prelanzamiento: {horaprelanzamiento}\n",
    "    Tiempo de vuelo: {tiempo},\n",
    "    Tanque externo: {combustible['tanqueExterno']}\n",
    "    Tanque interno: {combustible['tanqueInterno']}\n",
    "    Combustible total: {sum(combustible.values())}\n",
    "    \"\"\""
   ]
  },
  {
   "cell_type": "code",
   "execution_count": 76,
   "metadata": {},
   "outputs": [
    {
     "data": {
      "text/plain": [
       "'\\n    Destino de la misión: Tierra,\\n    Hora de prelanzamiento: 2022-02-15 22:54:00.655995\\n    Tiempo de vuelo: 12,\\n    Tanque externo: 123\\n    Tanque interno: 432\\n    Combustible total: 555\\n    '"
      ]
     },
     "execution_count": 76,
     "metadata": {},
     "output_type": "execute_result"
    }
   ],
   "source": [
    "informe(tiempo=12, destino=\"Tierra\", tanqueExterno=123, tanqueInterno=432)"
   ]
  }
 ],
 "metadata": {
  "interpreter": {
   "hash": "f4fde45515710cbe4f4cf44a8ddef1b298277709bd6c5462499553af68a98f2e"
  },
  "kernelspec": {
   "display_name": "Python 3.10.2 64-bit",
   "language": "python",
   "name": "python3"
  },
  "language_info": {
   "codemirror_mode": {
    "name": "ipython",
    "version": 3
   },
   "file_extension": ".py",
   "mimetype": "text/x-python",
   "name": "python",
   "nbconvert_exporter": "python",
   "pygments_lexer": "ipython3",
   "version": "3.10.2"
  },
  "orig_nbformat": 4
 },
 "nbformat": 4,
 "nbformat_minor": 2
}
